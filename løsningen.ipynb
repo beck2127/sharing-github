{
 "cells": [
  {
   "cell_type": "code",
   "execution_count": 1,
   "metadata": {},
   "outputs": [],
   "source": [
    "import pandas as panda\n",
    "import matplotlib\n",
    "from matplotlib import pyplot as plot\n",
    "import nltk\n",
    "from nltk.corpus import stopwords\n",
    "from nltk import word_tokenize\n",
    "import datetime\n",
    "\n",
    "\n",
    "\n"
   ]
  },
  {
   "cell_type": "code",
   "execution_count": 2,
   "metadata": {},
   "outputs": [],
   "source": [
    "data = ['TurId','Dato','Fylke','Område','Kommune','Holdeplass_Fra',\n",
    "             'Holdeplass_Til','Linjetype','Linjefylke','Linjenavn',\n",
    "             'Linjeretning','Tidspunkt_Faktisk_Ankomst_Holdeplass_Fra',\n",
    "             'Tidspunkt_Faktisk_Avgang_Holdeplass_Fra',\n",
    "             'Tidspunkt_Planlagt_Ankomst_Holdeplass_Fra',\n",
    "             'Tidspunkt_Planlagt_Avgang_Holdeplass_Fra',\n",
    "             'Kjøretøy_Kapasitet','Passasjerer_Ombord']"
   ]
  },
  {
   "cell_type": "code",
   "execution_count": 3,
   "metadata": {},
   "outputs": [],
   "source": [
    "dataframe = panda.read_csv(\"C:/Users/Beck/Intro_to_AI/assignment1/Ruter_data.csv\", sep=';',engine='python', encoding='UTF-8',names=data)"
   ]
  },
  {
   "cell_type": "code",
   "execution_count": null,
   "metadata": {},
   "outputs": [],
   "source": []
  },
  {
   "cell_type": "code",
   "execution_count": 4,
   "metadata": {},
   "outputs": [],
   "source": [
    "dataframe.drop([0], inplace = True) \n",
    "  "
   ]
  },
  {
   "cell_type": "code",
   "execution_count": 5,
   "metadata": {
    "scrolled": true
   },
   "outputs": [
    {
     "data": {
      "text/html": [
       "<div>\n",
       "<style scoped>\n",
       "    .dataframe tbody tr th:only-of-type {\n",
       "        vertical-align: middle;\n",
       "    }\n",
       "\n",
       "    .dataframe tbody tr th {\n",
       "        vertical-align: top;\n",
       "    }\n",
       "\n",
       "    .dataframe thead th {\n",
       "        text-align: right;\n",
       "    }\n",
       "</style>\n",
       "<table border=\"1\" class=\"dataframe\">\n",
       "  <thead>\n",
       "    <tr style=\"text-align: right;\">\n",
       "      <th></th>\n",
       "      <th>TurId</th>\n",
       "      <th>Dato</th>\n",
       "      <th>Fylke</th>\n",
       "      <th>Område</th>\n",
       "      <th>Kommune</th>\n",
       "      <th>Holdeplass_Fra</th>\n",
       "      <th>Holdeplass_Til</th>\n",
       "      <th>Linjetype</th>\n",
       "      <th>Linjefylke</th>\n",
       "      <th>Linjenavn</th>\n",
       "      <th>Linjeretning</th>\n",
       "      <th>Tidspunkt_Faktisk_Ankomst_Holdeplass_Fra</th>\n",
       "      <th>Tidspunkt_Faktisk_Avgang_Holdeplass_Fra</th>\n",
       "      <th>Tidspunkt_Planlagt_Ankomst_Holdeplass_Fra</th>\n",
       "      <th>Tidspunkt_Planlagt_Avgang_Holdeplass_Fra</th>\n",
       "      <th>Kjøretøy_Kapasitet</th>\n",
       "      <th>Passasjerer_Ombord</th>\n",
       "    </tr>\n",
       "  </thead>\n",
       "  <tbody>\n",
       "    <tr>\n",
       "      <th>1</th>\n",
       "      <td>15006-2020-08-10T10:24:00+02:00</td>\n",
       "      <td>10/08/2020</td>\n",
       "      <td>Viken</td>\n",
       "      <td>Vest</td>\n",
       "      <td>Bærum</td>\n",
       "      <td>Nordliveien</td>\n",
       "      <td>Tjernsmyr</td>\n",
       "      <td>Lokal</td>\n",
       "      <td>Viken</td>\n",
       "      <td>150</td>\n",
       "      <td>0.0</td>\n",
       "      <td>10:53:53</td>\n",
       "      <td>10:53:59</td>\n",
       "      <td>10:53:00</td>\n",
       "      <td>10:53:00</td>\n",
       "      <td>112.0</td>\n",
       "      <td>5.0</td>\n",
       "    </tr>\n",
       "    <tr>\n",
       "      <th>2</th>\n",
       "      <td>15002-2020-08-15T12:54:00+02:00</td>\n",
       "      <td>15/08/2020</td>\n",
       "      <td>Viken</td>\n",
       "      <td>Vest</td>\n",
       "      <td>Bærum</td>\n",
       "      <td>Nadderud stadion</td>\n",
       "      <td>Bekkestua bussterminal (Plattform C)</td>\n",
       "      <td>Lokal</td>\n",
       "      <td>Viken</td>\n",
       "      <td>150</td>\n",
       "      <td>0.0</td>\n",
       "      <td>13:12:20</td>\n",
       "      <td>13:12:26</td>\n",
       "      <td>13:12:00</td>\n",
       "      <td>13:12:00</td>\n",
       "      <td>112.0</td>\n",
       "      <td>5.0</td>\n",
       "    </tr>\n",
       "    <tr>\n",
       "      <th>3</th>\n",
       "      <td>15004-2020-08-03T09:54:00+02:00</td>\n",
       "      <td>03/08/2020</td>\n",
       "      <td>Viken</td>\n",
       "      <td>Vest</td>\n",
       "      <td>Bærum</td>\n",
       "      <td>Ringstabekkveien</td>\n",
       "      <td>Skallum</td>\n",
       "      <td>Lokal</td>\n",
       "      <td>Viken</td>\n",
       "      <td>150</td>\n",
       "      <td>0.0</td>\n",
       "      <td>10:18:56</td>\n",
       "      <td>10:19:21</td>\n",
       "      <td>10:19:00</td>\n",
       "      <td>10:19:00</td>\n",
       "      <td>112.0</td>\n",
       "      <td>6.0</td>\n",
       "    </tr>\n",
       "    <tr>\n",
       "      <th>4</th>\n",
       "      <td>15003-2020-07-27T13:00:00+02:00</td>\n",
       "      <td>27/07/2020</td>\n",
       "      <td>Viken</td>\n",
       "      <td>Vest</td>\n",
       "      <td>Bærum</td>\n",
       "      <td>Gruvemyra</td>\n",
       "      <td>Gullhaug</td>\n",
       "      <td>Lokal</td>\n",
       "      <td>Viken</td>\n",
       "      <td>150</td>\n",
       "      <td>1.0</td>\n",
       "      <td>13:52:04</td>\n",
       "      <td>13:52:26</td>\n",
       "      <td>13:51:00</td>\n",
       "      <td>13:51:00</td>\n",
       "      <td>112.0</td>\n",
       "      <td>10.0</td>\n",
       "    </tr>\n",
       "    <tr>\n",
       "      <th>5</th>\n",
       "      <td>15002-2020-08-27T07:15:00+02:00</td>\n",
       "      <td>27/08/2020</td>\n",
       "      <td>Viken</td>\n",
       "      <td>Vest</td>\n",
       "      <td>Bærum</td>\n",
       "      <td>Lysaker stasjon (Plattform A)</td>\n",
       "      <td>Tjernsmyr</td>\n",
       "      <td>Lokal</td>\n",
       "      <td>Viken</td>\n",
       "      <td>150</td>\n",
       "      <td>1.0</td>\n",
       "      <td>07:34:13</td>\n",
       "      <td>07:34:53</td>\n",
       "      <td>07:33:00</td>\n",
       "      <td>07:33:00</td>\n",
       "      <td>112.0</td>\n",
       "      <td>10.0</td>\n",
       "    </tr>\n",
       "  </tbody>\n",
       "</table>\n",
       "</div>"
      ],
      "text/plain": [
       "                             TurId        Dato  Fylke Område Kommune  \\\n",
       "1  15006-2020-08-10T10:24:00+02:00  10/08/2020  Viken   Vest   Bærum   \n",
       "2  15002-2020-08-15T12:54:00+02:00  15/08/2020  Viken   Vest   Bærum   \n",
       "3  15004-2020-08-03T09:54:00+02:00  03/08/2020  Viken   Vest   Bærum   \n",
       "4  15003-2020-07-27T13:00:00+02:00  27/07/2020  Viken   Vest   Bærum   \n",
       "5  15002-2020-08-27T07:15:00+02:00  27/08/2020  Viken   Vest   Bærum   \n",
       "\n",
       "                  Holdeplass_Fra                        Holdeplass_Til  \\\n",
       "1                    Nordliveien                             Tjernsmyr   \n",
       "2               Nadderud stadion  Bekkestua bussterminal (Plattform C)   \n",
       "3               Ringstabekkveien                               Skallum   \n",
       "4                      Gruvemyra                              Gullhaug   \n",
       "5  Lysaker stasjon (Plattform A)                             Tjernsmyr   \n",
       "\n",
       "  Linjetype Linjefylke Linjenavn  Linjeretning  \\\n",
       "1     Lokal      Viken       150           0.0   \n",
       "2     Lokal      Viken       150           0.0   \n",
       "3     Lokal      Viken       150           0.0   \n",
       "4     Lokal      Viken       150           1.0   \n",
       "5     Lokal      Viken       150           1.0   \n",
       "\n",
       "  Tidspunkt_Faktisk_Ankomst_Holdeplass_Fra  \\\n",
       "1                                 10:53:53   \n",
       "2                                 13:12:20   \n",
       "3                                 10:18:56   \n",
       "4                                 13:52:04   \n",
       "5                                 07:34:13   \n",
       "\n",
       "  Tidspunkt_Faktisk_Avgang_Holdeplass_Fra  \\\n",
       "1                                10:53:59   \n",
       "2                                13:12:26   \n",
       "3                                10:19:21   \n",
       "4                                13:52:26   \n",
       "5                                07:34:53   \n",
       "\n",
       "  Tidspunkt_Planlagt_Ankomst_Holdeplass_Fra  \\\n",
       "1                                  10:53:00   \n",
       "2                                  13:12:00   \n",
       "3                                  10:19:00   \n",
       "4                                  13:51:00   \n",
       "5                                  07:33:00   \n",
       "\n",
       "  Tidspunkt_Planlagt_Avgang_Holdeplass_Fra  Kjøretøy_Kapasitet  \\\n",
       "1                                 10:53:00               112.0   \n",
       "2                                 13:12:00               112.0   \n",
       "3                                 10:19:00               112.0   \n",
       "4                                 13:51:00               112.0   \n",
       "5                                 07:33:00               112.0   \n",
       "\n",
       "   Passasjerer_Ombord  \n",
       "1                 5.0  \n",
       "2                 5.0  \n",
       "3                 6.0  \n",
       "4                10.0  \n",
       "5                10.0  "
      ]
     },
     "execution_count": 5,
     "metadata": {},
     "output_type": "execute_result"
    }
   ],
   "source": [
    "dataframe.head()"
   ]
  },
  {
   "cell_type": "code",
   "execution_count": 6,
   "metadata": {
    "scrolled": true
   },
   "outputs": [
    {
     "name": "stdout",
     "output_type": "stream",
     "text": [
      "['arabic', 'azerbaijani', 'danish', 'dutch', 'english', 'finnish', 'french', 'german', 'greek', 'hungarian', 'indonesian', 'italian', 'kazakh', 'nepali', 'norwegian', 'portuguese', 'romanian', 'russian', 'slovene', 'spanish', 'swedish', 'tajik', 'turkish']\n"
     ]
    }
   ],
   "source": [
    "print(stopwords.fileids())"
   ]
  },
  {
   "cell_type": "markdown",
   "metadata": {},
   "source": [
    "Changed \"Kjøretøy_kapasitet\" to \"Kjoretoy_kapasitet\" in \"Ruter_data.csv\" file, because of language error."
   ]
  },
  {
   "cell_type": "code",
   "execution_count": 7,
   "metadata": {
    "scrolled": true
   },
   "outputs": [
    {
     "data": {
      "text/plain": [
       "(6000, 17)"
      ]
     },
     "execution_count": 7,
     "metadata": {},
     "output_type": "execute_result"
    }
   ],
   "source": [
    "dataframe.shape"
   ]
  },
  {
   "cell_type": "code",
   "execution_count": 8,
   "metadata": {},
   "outputs": [
    {
     "data": {
      "text/plain": [
       "TurId                                        False\n",
       "Dato                                         False\n",
       "Fylke                                        False\n",
       "Område                                       False\n",
       "Kommune                                      False\n",
       "Holdeplass_Fra                               False\n",
       "Holdeplass_Til                               False\n",
       "Linjetype                                    False\n",
       "Linjefylke                                   False\n",
       "Linjenavn                                    False\n",
       "Linjeretning                                 False\n",
       "Tidspunkt_Faktisk_Ankomst_Holdeplass_Fra     False\n",
       "Tidspunkt_Faktisk_Avgang_Holdeplass_Fra      False\n",
       "Tidspunkt_Planlagt_Ankomst_Holdeplass_Fra    False\n",
       "Tidspunkt_Planlagt_Avgang_Holdeplass_Fra     False\n",
       "Kjøretøy_Kapasitet                           False\n",
       "Passasjerer_Ombord                           False\n",
       "dtype: bool"
      ]
     },
     "execution_count": 8,
     "metadata": {},
     "output_type": "execute_result"
    }
   ],
   "source": [
    "dataframe.isnull().any()"
   ]
  },
  {
   "cell_type": "code",
   "execution_count": 9,
   "metadata": {},
   "outputs": [
    {
     "data": {
      "text/plain": [
       "TurId                                        5953\n",
       "Dato                                           90\n",
       "Fylke                                           2\n",
       "Område                                          4\n",
       "Kommune                                        34\n",
       "Holdeplass_Fra                               1632\n",
       "Holdeplass_Til                               1638\n",
       "Linjetype                                       4\n",
       "Linjefylke                                      2\n",
       "Linjenavn                                     150\n",
       "Linjeretning                                    2\n",
       "Tidspunkt_Faktisk_Ankomst_Holdeplass_Fra     5677\n",
       "Tidspunkt_Faktisk_Avgang_Holdeplass_Fra      5749\n",
       "Tidspunkt_Planlagt_Ankomst_Holdeplass_Fra    1201\n",
       "Tidspunkt_Planlagt_Avgang_Holdeplass_Fra     1201\n",
       "Kjøretøy_Kapasitet                             18\n",
       "Passasjerer_Ombord                             70\n",
       "dtype: int64"
      ]
     },
     "execution_count": 9,
     "metadata": {},
     "output_type": "execute_result"
    }
   ],
   "source": [
    "dataframe.nunique()"
   ]
  },
  {
   "cell_type": "code",
   "execution_count": 10,
   "metadata": {},
   "outputs": [
    {
     "data": {
      "image/png": "[encoded data removed]",
      "text/plain": [
       "<Figure size 720x504 with 1 Axes>"
      ]
     },
     "metadata": {
      "needs_background": "light"
     },
     "output_type": "display_data"
    }
   ],
   "source": [
    "boxplot = dataframe.boxplot(grid=False,rot=65,figsize=(10,7));"
   ]
  },
  {
   "cell_type": "code",
   "execution_count": 11,
   "metadata": {
    "scrolled": false
   },
   "outputs": [
    {
     "data": {
      "image/png": "[encoded data removed]",
      "text/plain": [
       "<Figure size 432x288 with 1 Axes>"
      ]
     },
     "metadata": {
      "needs_background": "light"
     },
     "output_type": "display_data"
    }
   ],
   "source": [
    "plot.hist(dataframe.Kjøretøy_Kapasitet,  bins=20, rwidth=0.8)\n",
    "plot.ylabel('Kjøretøy_Kapasitet')\n",
    "plot.xlabel('Antall kjøretøy')\n",
    "plot.xlim ([0.0,170.0])\n",
    "plot.ylim([0.0,6000])\n",
    "plot.show()"
   ]
  },
  {
   "cell_type": "code",
   "execution_count": 12,
   "metadata": {},
   "outputs": [
    {
     "data": {
      "image/png": "[encoded data removed]",
      "text/plain": [
       "<Figure size 720x576 with 1 Axes>"
      ]
     },
     "metadata": {
      "needs_background": "light"
     },
     "output_type": "display_data"
    }
   ],
   "source": [
    "dataframe['Kjøretøy_Kapasitet'].plot.hist(bins=10,figsize=(10,8));"
   ]
  },
  {
   "cell_type": "code",
   "execution_count": null,
   "metadata": {},
   "outputs": [],
   "source": [
    "\n"
   ]
  },
  {
   "cell_type": "code",
   "execution_count": 13,
   "metadata": {},
   "outputs": [
    {
     "data": {
      "text/plain": [
       "151.0"
      ]
     },
     "execution_count": 13,
     "metadata": {},
     "output_type": "execute_result"
    }
   ],
   "source": [
    "thresold_max = dataframe['Kjøretøy_Kapasitet'].quantile(0.90)\n",
    "thresold_max"
   ]
  },
  {
   "cell_type": "code",
   "execution_count": null,
   "metadata": {},
   "outputs": [],
   "source": []
  },
  {
   "cell_type": "code",
   "execution_count": 14,
   "metadata": {},
   "outputs": [
    {
     "data": {
      "text/plain": [
       "72.0"
      ]
     },
     "execution_count": 14,
     "metadata": {},
     "output_type": "execute_result"
    }
   ],
   "source": [
    "thresold_min = dataframe['Kjøretøy_Kapasitet'].quantile(0.10) \n",
    "thresold_min"
   ]
  },
  {
   "cell_type": "code",
   "execution_count": 15,
   "metadata": {},
   "outputs": [
    {
     "data": {
      "text/html": [
       "<div>\n",
       "<style scoped>\n",
       "    .dataframe tbody tr th:only-of-type {\n",
       "        vertical-align: middle;\n",
       "    }\n",
       "\n",
       "    .dataframe tbody tr th {\n",
       "        vertical-align: top;\n",
       "    }\n",
       "\n",
       "    .dataframe thead th {\n",
       "        text-align: right;\n",
       "    }\n",
       "</style>\n",
       "<table border=\"1\" class=\"dataframe\">\n",
       "  <thead>\n",
       "    <tr style=\"text-align: right;\">\n",
       "      <th></th>\n",
       "      <th>TurId</th>\n",
       "      <th>Dato</th>\n",
       "      <th>Fylke</th>\n",
       "      <th>Område</th>\n",
       "      <th>Kommune</th>\n",
       "      <th>Holdeplass_Fra</th>\n",
       "      <th>Holdeplass_Til</th>\n",
       "      <th>Linjetype</th>\n",
       "      <th>Linjefylke</th>\n",
       "      <th>Linjenavn</th>\n",
       "      <th>Linjeretning</th>\n",
       "      <th>Tidspunkt_Faktisk_Ankomst_Holdeplass_Fra</th>\n",
       "      <th>Tidspunkt_Faktisk_Avgang_Holdeplass_Fra</th>\n",
       "      <th>Tidspunkt_Planlagt_Ankomst_Holdeplass_Fra</th>\n",
       "      <th>Tidspunkt_Planlagt_Avgang_Holdeplass_Fra</th>\n",
       "      <th>Kjøretøy_Kapasitet</th>\n",
       "      <th>Passasjerer_Ombord</th>\n",
       "    </tr>\n",
       "  </thead>\n",
       "  <tbody>\n",
       "    <tr>\n",
       "      <th>17</th>\n",
       "      <td>43111-2020-06-16T07:12:00+02:00</td>\n",
       "      <td>16/06/2020</td>\n",
       "      <td>Viken</td>\n",
       "      <td>Nordøst</td>\n",
       "      <td>Ullensaker</td>\n",
       "      <td>Furuset</td>\n",
       "      <td>Furuset kirke</td>\n",
       "      <td>Skole</td>\n",
       "      <td>Viken</td>\n",
       "      <td>3772</td>\n",
       "      <td>0.0</td>\n",
       "      <td>07:22:42</td>\n",
       "      <td>07:22:46</td>\n",
       "      <td>07:23:00</td>\n",
       "      <td>07:23:00</td>\n",
       "      <td>71.0</td>\n",
       "      <td>6.0</td>\n",
       "    </tr>\n",
       "    <tr>\n",
       "      <th>53</th>\n",
       "      <td>6003-2020-06-03T13:55:00+02:00</td>\n",
       "      <td>03/06/2020</td>\n",
       "      <td>Oslo</td>\n",
       "      <td>Indre By</td>\n",
       "      <td>Gamle Oslo</td>\n",
       "      <td>Kampen park  (mot Tøyen)</td>\n",
       "      <td>Kampen   (mot Tøyen)</td>\n",
       "      <td>Lokal</td>\n",
       "      <td>Oslo</td>\n",
       "      <td>60</td>\n",
       "      <td>1.0</td>\n",
       "      <td>14:20:06</td>\n",
       "      <td>14:20:36</td>\n",
       "      <td>14:19:00</td>\n",
       "      <td>14:19:00</td>\n",
       "      <td>33.0</td>\n",
       "      <td>3.0</td>\n",
       "    </tr>\n",
       "    <tr>\n",
       "      <th>56</th>\n",
       "      <td>6003-2020-07-08T07:55:00+02:00</td>\n",
       "      <td>08/07/2020</td>\n",
       "      <td>Oslo</td>\n",
       "      <td>Nordøst</td>\n",
       "      <td>Bjerke</td>\n",
       "      <td>Økernbråten  (i Brobekkveien)</td>\n",
       "      <td>Øvre Risløkka  (mot Kroklia)</td>\n",
       "      <td>Lokal</td>\n",
       "      <td>Oslo</td>\n",
       "      <td>60</td>\n",
       "      <td>1.0</td>\n",
       "      <td>08:02:10</td>\n",
       "      <td>08:02:16</td>\n",
       "      <td>08:01:00</td>\n",
       "      <td>08:01:00</td>\n",
       "      <td>33.0</td>\n",
       "      <td>1.0</td>\n",
       "    </tr>\n",
       "    <tr>\n",
       "      <th>57</th>\n",
       "      <td>6002-2020-06-09T06:32:00+02:00</td>\n",
       "      <td>09/06/2020</td>\n",
       "      <td>Oslo</td>\n",
       "      <td>Nordøst</td>\n",
       "      <td>Bjerke</td>\n",
       "      <td>Kroklia  (mot Økernbråten)</td>\n",
       "      <td>Øvre Risløkka  (mot Refstadveien)</td>\n",
       "      <td>Lokal</td>\n",
       "      <td>Oslo</td>\n",
       "      <td>60</td>\n",
       "      <td>0.0</td>\n",
       "      <td>07:06:59</td>\n",
       "      <td>07:07:07</td>\n",
       "      <td>07:12:00</td>\n",
       "      <td>07:12:00</td>\n",
       "      <td>33.0</td>\n",
       "      <td>0.0</td>\n",
       "    </tr>\n",
       "    <tr>\n",
       "      <th>66</th>\n",
       "      <td>27058-2020-08-19T08:35:00+02:00</td>\n",
       "      <td>19/08/2020</td>\n",
       "      <td>Viken</td>\n",
       "      <td>Vest</td>\n",
       "      <td>Asker</td>\n",
       "      <td>Jørgens vei (Gullhella)</td>\n",
       "      <td>Eid</td>\n",
       "      <td>Lokal</td>\n",
       "      <td>Viken</td>\n",
       "      <td>285</td>\n",
       "      <td>1.0</td>\n",
       "      <td>08:51:55</td>\n",
       "      <td>08:52:00</td>\n",
       "      <td>08:51:00</td>\n",
       "      <td>08:51:00</td>\n",
       "      <td>70.0</td>\n",
       "      <td>-1.0</td>\n",
       "    </tr>\n",
       "    <tr>\n",
       "      <th>...</th>\n",
       "      <td>...</td>\n",
       "      <td>...</td>\n",
       "      <td>...</td>\n",
       "      <td>...</td>\n",
       "      <td>...</td>\n",
       "      <td>...</td>\n",
       "      <td>...</td>\n",
       "      <td>...</td>\n",
       "      <td>...</td>\n",
       "      <td>...</td>\n",
       "      <td>...</td>\n",
       "      <td>...</td>\n",
       "      <td>...</td>\n",
       "      <td>...</td>\n",
       "      <td>...</td>\n",
       "      <td>...</td>\n",
       "      <td>...</td>\n",
       "    </tr>\n",
       "    <tr>\n",
       "      <th>5939</th>\n",
       "      <td>4605-2020-08-09T21:02:00+02:00</td>\n",
       "      <td>09/08/2020</td>\n",
       "      <td>Oslo</td>\n",
       "      <td>Vest</td>\n",
       "      <td>Vestre Aker</td>\n",
       "      <td>Borgen  (mot Smestad)</td>\n",
       "      <td>Heggeli  (mot Smestad)</td>\n",
       "      <td>Lokal</td>\n",
       "      <td>Oslo</td>\n",
       "      <td>45</td>\n",
       "      <td>1.0</td>\n",
       "      <td>21:04:19</td>\n",
       "      <td>21:04:24</td>\n",
       "      <td>21:04:00</td>\n",
       "      <td>21:04:00</td>\n",
       "      <td>71.0</td>\n",
       "      <td>13.0</td>\n",
       "    </tr>\n",
       "    <tr>\n",
       "      <th>5943</th>\n",
       "      <td>4601-2020-07-09T13:31:00+02:00</td>\n",
       "      <td>09/07/2020</td>\n",
       "      <td>Oslo</td>\n",
       "      <td>Vest</td>\n",
       "      <td>Vestre Aker</td>\n",
       "      <td>Holmendammen  (mot Smestad)</td>\n",
       "      <td>Bernhard Herres vei  (mot Smestad)</td>\n",
       "      <td>Lokal</td>\n",
       "      <td>Oslo</td>\n",
       "      <td>45</td>\n",
       "      <td>0.0</td>\n",
       "      <td>13:45:06</td>\n",
       "      <td>13:45:11</td>\n",
       "      <td>13:43:00</td>\n",
       "      <td>13:43:00</td>\n",
       "      <td>71.0</td>\n",
       "      <td>7.0</td>\n",
       "    </tr>\n",
       "    <tr>\n",
       "      <th>5946</th>\n",
       "      <td>4601-2020-08-25T13:46:00+02:00</td>\n",
       "      <td>25/08/2020</td>\n",
       "      <td>Oslo</td>\n",
       "      <td>Vest</td>\n",
       "      <td>Vestre Aker</td>\n",
       "      <td>Holmendammen  (mot Smestad)</td>\n",
       "      <td>Bernhard Herres vei  (mot Smestad)</td>\n",
       "      <td>Lokal</td>\n",
       "      <td>Oslo</td>\n",
       "      <td>45</td>\n",
       "      <td>0.0</td>\n",
       "      <td>13:59:47</td>\n",
       "      <td>14:00:13</td>\n",
       "      <td>13:58:00</td>\n",
       "      <td>13:58:00</td>\n",
       "      <td>71.0</td>\n",
       "      <td>4.0</td>\n",
       "    </tr>\n",
       "    <tr>\n",
       "      <th>5950</th>\n",
       "      <td>4004-2020-08-27T23:31:00+02:00</td>\n",
       "      <td>27/08/2020</td>\n",
       "      <td>Oslo</td>\n",
       "      <td>Vest</td>\n",
       "      <td>Ullern</td>\n",
       "      <td>Borgen  (mot Majorstuen)</td>\n",
       "      <td>Volvat  (mot Majorstuen)</td>\n",
       "      <td>Lokal</td>\n",
       "      <td>Oslo</td>\n",
       "      <td>45</td>\n",
       "      <td>0.0</td>\n",
       "      <td>23:47:15</td>\n",
       "      <td>23:47:19</td>\n",
       "      <td>23:48:00</td>\n",
       "      <td>23:48:00</td>\n",
       "      <td>71.0</td>\n",
       "      <td>2.0</td>\n",
       "    </tr>\n",
       "    <tr>\n",
       "      <th>5984</th>\n",
       "      <td>24008-2020-08-27T07:56:00+02:00</td>\n",
       "      <td>27/08/2020</td>\n",
       "      <td>Viken</td>\n",
       "      <td>Vest</td>\n",
       "      <td>Asker</td>\n",
       "      <td>Grønsund</td>\n",
       "      <td>IKEA Slependen</td>\n",
       "      <td>Lokal</td>\n",
       "      <td>Viken</td>\n",
       "      <td>265</td>\n",
       "      <td>0.0</td>\n",
       "      <td>08:13:34</td>\n",
       "      <td>08:13:57</td>\n",
       "      <td>08:13:00</td>\n",
       "      <td>08:13:00</td>\n",
       "      <td>69.0</td>\n",
       "      <td>1.0</td>\n",
       "    </tr>\n",
       "  </tbody>\n",
       "</table>\n",
       "<p>508 rows × 17 columns</p>\n",
       "</div>"
      ],
      "text/plain": [
       "                                TurId        Dato  Fylke    Område  \\\n",
       "17    43111-2020-06-16T07:12:00+02:00  16/06/2020  Viken   Nordøst   \n",
       "53     6003-2020-06-03T13:55:00+02:00  03/06/2020   Oslo  Indre By   \n",
       "56     6003-2020-07-08T07:55:00+02:00  08/07/2020   Oslo   Nordøst   \n",
       "57     6002-2020-06-09T06:32:00+02:00  09/06/2020   Oslo   Nordøst   \n",
       "66    27058-2020-08-19T08:35:00+02:00  19/08/2020  Viken      Vest   \n",
       "...                               ...         ...    ...       ...   \n",
       "5939   4605-2020-08-09T21:02:00+02:00  09/08/2020   Oslo      Vest   \n",
       "5943   4601-2020-07-09T13:31:00+02:00  09/07/2020   Oslo      Vest   \n",
       "5946   4601-2020-08-25T13:46:00+02:00  25/08/2020   Oslo      Vest   \n",
       "5950   4004-2020-08-27T23:31:00+02:00  27/08/2020   Oslo      Vest   \n",
       "5984  24008-2020-08-27T07:56:00+02:00  27/08/2020  Viken      Vest   \n",
       "\n",
       "          Kommune                 Holdeplass_Fra  \\\n",
       "17     Ullensaker                        Furuset   \n",
       "53     Gamle Oslo       Kampen park  (mot Tøyen)   \n",
       "56         Bjerke  Økernbråten  (i Brobekkveien)   \n",
       "57         Bjerke     Kroklia  (mot Økernbråten)   \n",
       "66          Asker        Jørgens vei (Gullhella)   \n",
       "...           ...                            ...   \n",
       "5939  Vestre Aker          Borgen  (mot Smestad)   \n",
       "5943  Vestre Aker    Holmendammen  (mot Smestad)   \n",
       "5946  Vestre Aker    Holmendammen  (mot Smestad)   \n",
       "5950       Ullern       Borgen  (mot Majorstuen)   \n",
       "5984        Asker                       Grønsund   \n",
       "\n",
       "                          Holdeplass_Til Linjetype Linjefylke Linjenavn  \\\n",
       "17                         Furuset kirke     Skole      Viken      3772   \n",
       "53                  Kampen   (mot Tøyen)     Lokal       Oslo        60   \n",
       "56          Øvre Risløkka  (mot Kroklia)     Lokal       Oslo        60   \n",
       "57     Øvre Risløkka  (mot Refstadveien)     Lokal       Oslo        60   \n",
       "66                                   Eid     Lokal      Viken       285   \n",
       "...                                  ...       ...        ...       ...   \n",
       "5939              Heggeli  (mot Smestad)     Lokal       Oslo        45   \n",
       "5943  Bernhard Herres vei  (mot Smestad)     Lokal       Oslo        45   \n",
       "5946  Bernhard Herres vei  (mot Smestad)     Lokal       Oslo        45   \n",
       "5950            Volvat  (mot Majorstuen)     Lokal       Oslo        45   \n",
       "5984                      IKEA Slependen     Lokal      Viken       265   \n",
       "\n",
       "      Linjeretning Tidspunkt_Faktisk_Ankomst_Holdeplass_Fra  \\\n",
       "17             0.0                                 07:22:42   \n",
       "53             1.0                                 14:20:06   \n",
       "56             1.0                                 08:02:10   \n",
       "57             0.0                                 07:06:59   \n",
       "66             1.0                                 08:51:55   \n",
       "...            ...                                      ...   \n",
       "5939           1.0                                 21:04:19   \n",
       "5943           0.0                                 13:45:06   \n",
       "5946           0.0                                 13:59:47   \n",
       "5950           0.0                                 23:47:15   \n",
       "5984           0.0                                 08:13:34   \n",
       "\n",
       "     Tidspunkt_Faktisk_Avgang_Holdeplass_Fra  \\\n",
       "17                                  07:22:46   \n",
       "53                                  14:20:36   \n",
       "56                                  08:02:16   \n",
       "57                                  07:07:07   \n",
       "66                                  08:52:00   \n",
       "...                                      ...   \n",
       "5939                                21:04:24   \n",
       "5943                                13:45:11   \n",
       "5946                                14:00:13   \n",
       "5950                                23:47:19   \n",
       "5984                                08:13:57   \n",
       "\n",
       "     Tidspunkt_Planlagt_Ankomst_Holdeplass_Fra  \\\n",
       "17                                    07:23:00   \n",
       "53                                    14:19:00   \n",
       "56                                    08:01:00   \n",
       "57                                    07:12:00   \n",
       "66                                    08:51:00   \n",
       "...                                        ...   \n",
       "5939                                  21:04:00   \n",
       "5943                                  13:43:00   \n",
       "5946                                  13:58:00   \n",
       "5950                                  23:48:00   \n",
       "5984                                  08:13:00   \n",
       "\n",
       "     Tidspunkt_Planlagt_Avgang_Holdeplass_Fra  Kjøretøy_Kapasitet  \\\n",
       "17                                   07:23:00                71.0   \n",
       "53                                   14:19:00                33.0   \n",
       "56                                   08:01:00                33.0   \n",
       "57                                   07:12:00                33.0   \n",
       "66                                   08:51:00                70.0   \n",
       "...                                       ...                 ...   \n",
       "5939                                 21:04:00                71.0   \n",
       "5943                                 13:43:00                71.0   \n",
       "5946                                 13:58:00                71.0   \n",
       "5950                                 23:48:00                71.0   \n",
       "5984                                 08:13:00                69.0   \n",
       "\n",
       "      Passasjerer_Ombord  \n",
       "17                   6.0  \n",
       "53                   3.0  \n",
       "56                   1.0  \n",
       "57                   0.0  \n",
       "66                  -1.0  \n",
       "...                  ...  \n",
       "5939                13.0  \n",
       "5943                 7.0  \n",
       "5946                 4.0  \n",
       "5950                 2.0  \n",
       "5984                 1.0  \n",
       "\n",
       "[508 rows x 17 columns]"
      ]
     },
     "execution_count": 15,
     "metadata": {},
     "output_type": "execute_result"
    }
   ],
   "source": [
    "dataframe[dataframe['Kjøretøy_Kapasitet']<thresold_min]"
   ]
  },
  {
   "cell_type": "code",
   "execution_count": 16,
   "metadata": {},
   "outputs": [
    {
     "data": {
      "text/plain": [
       "(4404, 17)"
      ]
     },
     "execution_count": 16,
     "metadata": {},
     "output_type": "execute_result"
    }
   ],
   "source": [
    "new_dataframe=dataframe[(dataframe['Kjøretøy_Kapasitet']<thresold_max) & (dataframe['Kjøretøy_Kapasitet']>thresold_min)]\n",
    "new_dataframe.shape "
   ]
  }
 ],
 "metadata": {
  "kernelspec": {
   "display_name": "Python 3",
   "language": "python",
   "name": "python3"
  },
  "language_info": {
   "codemirror_mode": {
    "name": "ipython",
    "version": 3
   },
   "file_extension": ".py",
   "mimetype": "text/x-python",
   "name": "python",
   "nbconvert_exporter": "python",
   "pygments_lexer": "ipython3",
   "version": "3.8.5"
  }
 },
 "nbformat": 4,
 "nbformat_minor": 4
}
